{
  "nbformat": 4,
  "nbformat_minor": 0,
  "metadata": {
    "colab": {
      "provenance": [],
      "authorship_tag": "ABX9TyMUJRselI61NoGZTpOUsFPQ",
      "include_colab_link": true
    },
    "kernelspec": {
      "name": "python3",
      "display_name": "Python 3"
    },
    "language_info": {
      "name": "python"
    }
  },
  "cells": [
    {
      "cell_type": "markdown",
      "metadata": {
        "id": "view-in-github",
        "colab_type": "text"
      },
      "source": [
        "<a href=\"https://colab.research.google.com/github/Epilef86/Python/blob/main/Startswith.ipynb\" target=\"_parent\"><img src=\"https://colab.research.google.com/assets/colab-badge.svg\" alt=\"Open In Colab\"/></a>"
      ]
    },
    {
      "cell_type": "code",
      "execution_count": 3,
      "metadata": {
        "colab": {
          "base_uri": "https://localhost:8080/"
        },
        "id": "ZHM54P6wO7js",
        "outputId": "263229a5-667f-4709-e03a-5eab4b7c2fb8"
      },
      "outputs": [
        {
          "output_type": "stream",
          "name": "stdout",
          "text": [
            "False\n",
            "False\n",
            "False\n"
          ]
        }
      ],
      "source": [
        "\"\"\"\n",
        "Arquivo para startswith\n",
        "\n",
        "Escreva uma função que verififica se uma determinada string começa\n",
        "com uma determinada substring\n",
        "\"\"\"\n",
        "\n",
        "def startswith(string, sub):\n",
        "    return string[:len(sub)] == sub\n",
        "\n",
        "print(startswith('Sim', 'S'))\n",
        "print(startswith('Sim', 's'))\n",
        "print(startswith('Sim', 'Si'))"
      ]
    },
    {
      "cell_type": "markdown",
      "source": [
        "1ª função:\n",
        "\tdef startswith(string, sub):\n",
        "\t    startswith('Sim', 'S'):\n",
        "\n",
        "            return string[:len(sub)] == sub\n",
        "\t    return string[:1] == 'S'\n",
        "\t    return 'S' == 'S'\n",
        "\t    return True\n",
        "\n",
        "print(startswith('Sim', 'S'))  \n",
        "\n",
        "\t    startswith('Sim', 'S'):\n",
        "\n",
        "            return string[:len(sub)] == sub\n",
        "\t    return string[:1] == 's'\n",
        "\t    return 'S' == 's'\n",
        "\t    return False\n",
        "\n",
        "print(startswith('Sim', 's'))\n",
        "\n",
        "\t    startswith('Sim', 'Si'):\n",
        "\n",
        "            return string[:len(sub)] == sub\n",
        "\t    return string[:1] == 'Si'\n",
        "\t    return 'S' == 'Si'\n",
        "\t    return False\n",
        "\n",
        "print(startswith('Sim', 'Si'))"
      ],
      "metadata": {
        "id": "OcggTdNQQ7lU"
      }
    }
  ]
}